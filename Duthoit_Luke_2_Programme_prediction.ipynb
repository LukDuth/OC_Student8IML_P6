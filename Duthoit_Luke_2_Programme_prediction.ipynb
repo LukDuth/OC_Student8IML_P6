{
 "cells": [
  {
   "cell_type": "markdown",
   "id": "c4e12135-60db-4d40-9441-0daf3162c8c3",
   "metadata": {},
   "source": [
    "# <u><b>0) Préambule au code</b></u>\n",
    "# "
   ]
  },
  {
   "cell_type": "markdown",
   "id": "b70946da-5a55-4621-919a-80019a51a6d1",
   "metadata": {},
   "source": [
    "## <b><u>0.1) Ensemble des variables à modifier en début d'exécution du Notebook :</u></b>\n",
    "### !!! On attire l'attention du lecteur/utilisateur sur les variables ci dessous :\n",
    "### <b>- Les chemins d'accès de données :</b> Ils sont définis localement, et depuis peu de façon relative au répertoire contenant ce notebook. Le lecteur/utilisateur est libre de les modifier par rapport à son propre environnement, mais il faudra alors veiller à rendre cette modification cohérence avec le bon accès aux fichiers présents ci-dessous dans les répertoires <b>../Cache_fichiers/</b>, <b>../Figures/</b>, etc.\n",
    "### <b>- Les booléens d'activation/désactivation :</b> Attention, ces booléens (selon qu'ils prennent True ou False) activent (ou désactivent) des fonctions telles que la sauvegarde en local de fichiers créés à partir de données calculées dans ce notebook, la sauvegarde en local de figures, etc."
   ]
  },
  {
   "cell_type": "code",
   "execution_count": 1,
   "id": "0d489e9f-3089-4902-a74b-aa35d7f6a1b5",
   "metadata": {},
   "outputs": [],
   "source": [
    "# Booléen d'activation (ou non) de l'installation des modules/librairies nécessaires au bon fonctionnement de ce Notebook (cf partie 1.1) du Notebook).\n",
    "installation = False\n",
    "\n",
    "### Tout ce qui concerne la base de donnée\n",
    "path_b2d = \"../../B2D/\"#\"C:/Users/luked/Documents/Formation_Ingenieur_ML/Projets/P6/B2D/\"\n",
    "\n",
    "### Tout ce qui concerne les figures\n",
    "# Sauvegarde des figures et chemin de données vers répertoire de stockage\n",
    "sauvegarde_figure, path_fig = (\n",
    "    True,\n",
    "    \"../../Figures/2_\"\n",
    ")\n",
    "\n",
    "### Tout ce qui concerne le cache des fichiers (pour ne pas avoir à refaire tous les calculs systématiquement)\n",
    "# Sauvegarde des figures et chemin de données vers répertoire de stockage\n",
    "sauvegarde_fichiers, path_cache_input, path_cache_output = (\n",
    "    True,\n",
    "    \"../../Cache_fichiers/1_\",#\"C:/Users/luked/Documents/Formation_Ingenieur_ML/Projets/P6/Cache_fichiers/1_\",\n",
    "    \"../../Cache_fichiers/2_\",#\"C:/Users/luked/Documents/Formation_Ingenieur_ML/Projets/P6/Cache_fichiers/2_\",\n",
    ")\n"
   ]
  },
  {
   "cell_type": "markdown",
   "id": "b147b7b5-f1ea-4ac4-bab4-795e992467cb",
   "metadata": {},
   "source": [
    "###### \n",
    "## <u><b>0.1) Installation - éventuelle - de librairies python :</b></u>\n",
    "!!! Sautez cette étape si vous les avez déjà sur votre ordinateur, en mettant le booléen <i>installation</i> à <i>False</i>."
   ]
  },
  {
   "cell_type": "code",
   "execution_count": 2,
   "id": "5f97def1-102e-481f-9c3d-5b6de56a68a1",
   "metadata": {},
   "outputs": [],
   "source": [
    "if installation :\n",
    "    !pip install Pillow"
   ]
  },
  {
   "cell_type": "markdown",
   "id": "74b4f361-919d-475b-aa8e-4b3f05af898e",
   "metadata": {},
   "source": [
    "###### \n",
    "## <u><b>0.2) Importations de librairies/modules/fonctions python :</b></u>"
   ]
  },
  {
   "cell_type": "code",
   "execution_count": 3,
   "id": "ecc826e1-b84c-4fb5-92b3-81d8c2f0c460",
   "metadata": {},
   "outputs": [],
   "source": [
    "import os\n",
    "### Quelques classiques des notebooks scientifiques\n",
    "import numpy as np\n",
    "import matplotlib.pyplot as plt\n",
    "from matplotlib import cm\n",
    "### Traitement de texe\n",
    "from re import split\n",
    "from bs4 import BeautifulSoup\n",
    "### Traitement d'image\n",
    "from PIL import Image\n",
    "### Pickle\n",
    "import pickle"
   ]
  },
  {
   "cell_type": "code",
   "execution_count": 4,
   "id": "818ebe2f-edb7-4154-ad43-2045c904da8c",
   "metadata": {},
   "outputs": [],
   "source": [
    "### Keras\n",
    "from tensorflow.keras import Model, Sequential\n",
    "from tensorflow.keras.models import load_model\n",
    "from tensorflow.keras.utils import image_dataset_from_directory, set_random_seed"
   ]
  },
  {
   "cell_type": "code",
   "execution_count": 5,
   "id": "eea33701-61cf-41d9-935c-f6ba687cab32",
   "metadata": {},
   "outputs": [],
   "source": [
    "### Transfert Learning\n",
    "from tensorflow.keras.applications.mobilenet_v2 import preprocess_input as preprocin_mobnet2"
   ]
  },
  {
   "cell_type": "markdown",
   "id": "3d9e871d-d738-4346-b936-8a23bd7af1f8",
   "metadata": {},
   "source": [
    "###### \n",
    "## <u><b>0.3) Définition de constantes personnelles :</b></u>"
   ]
  },
  {
   "cell_type": "code",
   "execution_count": 6,
   "id": "d4e22919-24d8-4c81-b94a-85355c3ba33e",
   "metadata": {},
   "outputs": [],
   "source": [
    "### On détermine un entier qui servira à gêler le random state au sein des différentes fonctions\n",
    "rgn = 420"
   ]
  },
  {
   "cell_type": "markdown",
   "id": "a2a599cd-b12f-47fa-98bb-c561b52ccaab",
   "metadata": {},
   "source": [
    "###### \n",
    "## <u><b>0.4) Définition de fonctions personnelles :</b></u>"
   ]
  },
  {
   "cell_type": "code",
   "execution_count": 7,
   "id": "45cb1c6c-6b9e-48bb-ade6-b0083770df5d",
   "metadata": {},
   "outputs": [],
   "source": [
    "def pickle_load(path, suffix_title):\n",
    "    \"\"\"Fonction qui charge un objet sauvegardé localement, grâce à des fonctions de la librairie pickle\n",
    "\n",
    "    Arguments de cette fonction :\n",
    "    suffix_title -- chaîne de caractère, titre de la sauvegarde en local, nécessite que la variable de chemin de données path_cache_output ait été définie avant\"\"\"\n",
    "    # on ouvre le mode lecture de l'objet rangé dans le répertoire pointé par abs_path_cache_output\n",
    "    file_pickel_rb = open(file=path+suffix_title,mode='rb')\n",
    "    # chargement effectif\n",
    "    objet = pickle.load(file_pickel_rb)\n",
    "    # fermeture du mode lecture\n",
    "    file_pickel_rb.close()\n",
    "    del file_pickel_rb\n",
    "    return objet"
   ]
  },
  {
   "cell_type": "markdown",
   "id": "81008f3d-8d71-4c68-8391-53b0de2e164f",
   "metadata": {},
   "source": [
    "# \n",
    "# \n",
    "# <u><b>I) Importations des données nécessaires</b></u>"
   ]
  },
  {
   "cell_type": "code",
   "execution_count": 8,
   "id": "bf2d149b-47db-476a-99f9-c568861926fc",
   "metadata": {},
   "outputs": [],
   "source": [
    "# on charge le meilleur modèle\n",
    "model = load_model(filepath='./1_mobnet2_b_best.h5')"
   ]
  },
  {
   "cell_type": "code",
   "execution_count": 9,
   "id": "62777e3d-e131-490c-bcfe-a52c07b94f20",
   "metadata": {},
   "outputs": [],
   "source": [
    "# On charge les races (classes de prédiction)\n",
    "tab_races = os.listdir(path_b2d+'/Images')\n",
    "tab_races = np.array([split(string=string, pattern='-')[1] for string in tab_races])"
   ]
  },
  {
   "cell_type": "code",
   "execution_count": 10,
   "id": "21ddce2b-1b08-438e-bdd2-3eb616943184",
   "metadata": {},
   "outputs": [],
   "source": [
    "# On détecte les images mises à la racine du dossier contenant ce programme\n",
    "files_path = np.array(\n",
    "    [p for p in os.listdir() if p.endswith('png')|p.endswith('jpg')|p.endswith('jpeg')]\n",
    ")"
   ]
  },
  {
   "cell_type": "code",
   "execution_count": 11,
   "id": "8cdf5024-e2fe-470e-affc-f9061da386e5",
   "metadata": {},
   "outputs": [
    {
     "name": "stdout",
     "output_type": "stream",
     "text": [
      "Found 3 files belonging to 1 classes.\n"
     ]
    }
   ],
   "source": [
    "# Image chargées sous la forme d'un dataset\n",
    "ds = image_dataset_from_directory(\n",
    "    directory='./', \n",
    "    labels=None,\n",
    "    label_mode=None,\n",
    "    image_size=(224, 224), \n",
    "    shuffle=False,\n",
    "    seed=rgn\n",
    ")"
   ]
  },
  {
   "cell_type": "code",
   "execution_count": 12,
   "id": "b93132a1-4295-4cfe-9512-80de74c33942",
   "metadata": {},
   "outputs": [],
   "source": [
    "# Pre-processing\n",
    "ds_prepro = ds.map(lambda x : (preprocin_mobnet2(x)))"
   ]
  },
  {
   "cell_type": "markdown",
   "id": "483d4d96-9fc8-4702-aacf-df846080d9be",
   "metadata": {},
   "source": [
    "# \n",
    "# \n",
    "# <u><b>II) Prédictions</b></u>"
   ]
  },
  {
   "cell_type": "code",
   "execution_count": 13,
   "id": "23e2faad-86cf-4c53-954d-2cc390c9a3c3",
   "metadata": {},
   "outputs": [
    {
     "name": "stdout",
     "output_type": "stream",
     "text": [
      "1/1 [==============================] - 11s 11s/step\n"
     ]
    }
   ],
   "source": [
    "tab_pred = model.predict(ds_prepro)"
   ]
  },
  {
   "cell_type": "code",
   "execution_count": 16,
   "id": "0baa0f2b-994d-443b-af24-506dc3523db0",
   "metadata": {},
   "outputs": [
    {
     "name": "stdout",
     "output_type": "stream",
     "text": [
      "Titre image  ;  Race la plus probable ; Probailité de prédiction\n",
      "---------------------------------------------------------------\n",
      "image.png   African_hunting_dog   0.9999999 \n",
      "\n",
      "labrador-retriever-1384.jpg   Labrador_retriever   1.0 \n",
      "\n",
      "n02085620_10074.jpg   Chihuahua   1.0 \n",
      "\n"
     ]
    }
   ],
   "source": [
    "print('Titre image  ;  Race la plus probable ; Probailité de prédiction')\n",
    "print('---------------------------------------------------------------')\n",
    "for n, pred in enumerate(tab_pred) :\n",
    "    print(files_path[n],' ', tab_races[pred.argsort()[-1]],' ', pred[pred.argsort()[-1]],'\\n')"
   ]
  },
  {
   "cell_type": "markdown",
   "id": "494e4b2a-73af-4d8f-a753-e3d98acbb732",
   "metadata": {},
   "source": [
    "Le labrador et le chihuahua sont correctement prédits.\n",
    "\n",
    "En revanche, Snooky (image.png), le chien en image initiale du projet, est confondu avec un chien de chasse africain. \n",
    "\n",
    "On peut éventuellement expliquer celà à cause du grillage en X sur cette photo. En effet, les chiens de chasses africains (cf Base de données) ont souvent des séries de taches vaguement en X, peut être que l'algo a confondu ces deux types de formes.\n",
    "\n",
    "Les grandes oreilles des deux chiens ont peut être pu jouer également."
   ]
  },
  {
   "cell_type": "code",
   "execution_count": null,
   "id": "782c2f95-9151-4771-bd45-882909eb90df",
   "metadata": {},
   "outputs": [],
   "source": []
  }
 ],
 "metadata": {
  "kernelspec": {
   "display_name": "Python 3",
   "language": "python",
   "name": "python3"
  },
  "language_info": {
   "codemirror_mode": {
    "name": "ipython",
    "version": 3
   },
   "file_extension": ".py",
   "mimetype": "text/x-python",
   "name": "python",
   "nbconvert_exporter": "python",
   "pygments_lexer": "ipython3",
   "version": "3.8.8"
  }
 },
 "nbformat": 4,
 "nbformat_minor": 5
}
